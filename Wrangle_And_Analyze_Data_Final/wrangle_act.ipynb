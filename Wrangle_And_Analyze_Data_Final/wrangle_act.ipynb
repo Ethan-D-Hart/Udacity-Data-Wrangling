{
 "cells": [
  {
   "cell_type": "markdown",
   "id": "10aba186",
   "metadata": {},
   "source": [
    "# Wrange and Analyze Data Project\n",
    "\n",
    "## I. Introduction\n",
    "This project aims to practice data wrangling skills using real-world data from the tweet archive of @dog_rates (WeRateDogs). It involves gathering data from various sources, assessing it visually and programmatically for quality and tidiness issues, cleaning the data programmatically to address the identified issues, analyzing the cleaned dataset, and creating visualizations of the results."
   ]
  },
  {
   "cell_type": "markdown",
   "id": "86bbd501",
   "metadata": {},
   "source": [
    "## II. Gather Data\n",
    "\n",
    "To gather the three pieces of data from different sources, we will:\n",
    "\n",
    "- Obtain the WeRateDogs Twitter archive, which is provided as a CSV file called \"twitter_archive_enhanced.csv.\"\n",
    "\n",
    "- Download the tweet image predictions file, named \"image_predictions.tsv,\" programmatically using the Requests library. The file can be accessed from the following URL: \"https://d17h27t6h515a5.cloudfront.net/topher/2017/August/599fd2ad_image-predictions/image-predictions.tsv.\"\n",
    "\n",
    "- Programmatically download the tweet JSON data, named \"tweet_json.txt,\" using the Requests library. The data can be retrieved from the following URL: \"https://video.udacity-data.com/topher/2018/November/5be5fb7d_tweet-json/tweet-json.txt.\"\n",
    "\n",
    "\n",
    "\n",
    "\n"
   ]
  },
  {
   "cell_type": "code",
   "execution_count": 407,
   "id": "e121bae2",
   "metadata": {},
   "outputs": [],
   "source": [
    "##################\n",
    "#                #\n",
    "# IMPORT MODULES #\n",
    "#                #\n",
    "##################\n",
    "\n",
    "import pandas as pd\n",
    "import numpy as np\n",
    "import requests\n",
    "import json\n",
    "import tweepy\n",
    "import matplotlib.pyplot as plt\n",
    "%matplotlib inline"
   ]
  },
  {
   "cell_type": "code",
   "execution_count": 408,
   "id": "da2a2f60",
   "metadata": {},
   "outputs": [],
   "source": [
    "# Read Twitter CSV\n",
    "twitter_archive = pd.read_csv('twitter-archive-enhanced.csv')"
   ]
  },
  {
   "cell_type": "code",
   "execution_count": 409,
   "id": "fc50e3c2",
   "metadata": {},
   "outputs": [
    {
     "data": {
      "text/plain": [
       "<Response [200]>"
      ]
     },
     "execution_count": 409,
     "metadata": {},
     "output_type": "execute_result"
    }
   ],
   "source": [
    "# Read image_predictions.tsv via Requests library\n",
    "image_predictions_url = 'https://d17h27t6h515a5.cloudfront.net/topher/2017/August/599fd2ad_image-predictions/image-predictions.tsv'\n",
    "r =  requests.get(image_predictions_url)\n",
    "r"
   ]
  },
  {
   "cell_type": "code",
   "execution_count": 410,
   "id": "baead856",
   "metadata": {},
   "outputs": [],
   "source": [
    "# Save the file\n",
    "if r.status_code == 200:\n",
    "\n",
    "    with open('image-predictions.tsv', mode = 'wb') as file:\n",
    "        file.write(r.content)\n",
    "    \n",
    "    # Read TSV file\n",
    "    image_prediction = pd.read_csv('image-predictions.tsv', sep = '\\t')\n",
    "    \n",
    "else:\n",
    "    print('Error: Cannot download image-predictions.tsv')"
   ]
  },
  {
   "cell_type": "code",
   "execution_count": null,
   "id": "855c8eaa",
   "metadata": {},
   "outputs": [],
   "source": [
    "from tweepy import OAuthHandler\n",
    "from timeit import default_timer as timer\n",
    "\n",
    "# Query Twitter API for each tweet in the Twitter archive and save JSON in a text file\n",
    "# These are hidden to comply with Twitter's API terms and conditions\n",
    "consumer_key = 'Hidden'\n",
    "consumer_secret = 'Hidden'\n",
    "access_token = 'Hidden'\n",
    "access_secret = 'Hidden'\n",
    "\n",
    "auth = OAuthHandler(consumer_key, consumer_secret)\n",
    "auth.set_access_token(access_token, access_secret)\n",
    "\n",
    "api = tweepy.API(auth, wait_on_rate_limit=True)\n",
    "\n",
    "# NOTE TO STUDENT WITH MOBILE VERIFICATION ISSUES:\n",
    "# df_1 is a DataFrame with the twitter_archive_enhanced.csv file. You may have to\n",
    "# change line 17 to match the name of your DataFrame with twitter_archive_enhanced.csv\n",
    "# NOTE TO REVIEWER: this student had mobile verification issues so the following\n",
    "# Twitter API code was sent to this student from a Udacity instructor\n",
    "# Tweet IDs for which to gather additional data via Twitter's API\n",
    "tweet_ids = twitter_archive.tweet_id.values\n",
    "len(tweet_ids)\n",
    "\n",
    "# Query Twitter's API for JSON data for each tweet ID in the Twitter archive\n",
    "count = 0\n",
    "fails_dict = {}\n",
    "start = timer()\n",
    "# Save each tweet's returned JSON as a new line in a .txt file\n",
    "with open('tweet_json.txt', 'w') as outfile:\n",
    "    # This loop will likely take 20-30 minutes to run because of Twitter's rate limit\n",
    "    for tweet_id in tweet_ids:\n",
    "        count += 1\n",
    "        print(str(count) + \": \" + str(tweet_id))\n",
    "        try:\n",
    "            tweet = api.get_status(tweet_id, tweet_mode='extended')\n",
    "            print(\"Success\")\n",
    "            json.dump(tweet._json, outfile)\n",
    "            outfile.write('\\n')\n",
    "        except tweepy.errors.TweepyException as e:\n",
    "            print(\"Fail\")\n",
    "            fails_dict[tweet_id] = e\n",
    "            pass\n",
    "end = timer()\n",
    "print(end - start)\n",
    "print(fails_dict)"
   ]
  },
  {
   "cell_type": "code",
   "execution_count": 412,
   "id": "32fcc0be",
   "metadata": {},
   "outputs": [
    {
     "data": {
      "text/html": [
       "<div>\n",
       "<style scoped>\n",
       "    .dataframe tbody tr th:only-of-type {\n",
       "        vertical-align: middle;\n",
       "    }\n",
       "\n",
       "    .dataframe tbody tr th {\n",
       "        vertical-align: top;\n",
       "    }\n",
       "\n",
       "    .dataframe thead th {\n",
       "        text-align: right;\n",
       "    }\n",
       "</style>\n",
       "<table border=\"1\" class=\"dataframe\">\n",
       "  <thead>\n",
       "    <tr style=\"text-align: right;\">\n",
       "      <th></th>\n",
       "      <th>tweet_id</th>\n",
       "      <th>retweet_count</th>\n",
       "      <th>favorite_count</th>\n",
       "    </tr>\n",
       "  </thead>\n",
       "  <tbody>\n",
       "    <tr>\n",
       "      <th>0</th>\n",
       "      <td>892420643555336193</td>\n",
       "      <td>8853</td>\n",
       "      <td>39467</td>\n",
       "    </tr>\n",
       "    <tr>\n",
       "      <th>1</th>\n",
       "      <td>892177421306343426</td>\n",
       "      <td>6514</td>\n",
       "      <td>33819</td>\n",
       "    </tr>\n",
       "    <tr>\n",
       "      <th>2</th>\n",
       "      <td>891815181378084864</td>\n",
       "      <td>4328</td>\n",
       "      <td>25461</td>\n",
       "    </tr>\n",
       "    <tr>\n",
       "      <th>3</th>\n",
       "      <td>891689557279858688</td>\n",
       "      <td>8964</td>\n",
       "      <td>42908</td>\n",
       "    </tr>\n",
       "    <tr>\n",
       "      <th>4</th>\n",
       "      <td>891327558926688256</td>\n",
       "      <td>9774</td>\n",
       "      <td>41048</td>\n",
       "    </tr>\n",
       "  </tbody>\n",
       "</table>\n",
       "</div>"
      ],
      "text/plain": [
       "             tweet_id  retweet_count  favorite_count\n",
       "0  892420643555336193           8853           39467\n",
       "1  892177421306343426           6514           33819\n",
       "2  891815181378084864           4328           25461\n",
       "3  891689557279858688           8964           42908\n",
       "4  891327558926688256           9774           41048"
      ]
     },
     "execution_count": 412,
     "metadata": {},
     "output_type": "execute_result"
    }
   ],
   "source": [
    "# Read downloaded txt file line by line into a pandas DataFrame\n",
    "df_list = []\n",
    "with open('tweet-json', 'r') as file:\n",
    "    lines = file.readlines()\n",
    "    for line in lines:\n",
    "        parsed_json = json.loads(line)\n",
    "        df_list.append({'tweet_id': parsed_json['id'],\n",
    "                        'retweet_count': parsed_json['retweet_count'],\n",
    "                        'favorite_count': parsed_json['favorite_count']})\n",
    "        \n",
    "tweet_json = pd.DataFrame(df_list, columns = ['tweet_id', 'retweet_count', 'favorite_count'])\n",
    "\n",
    "tweet_json.head()"
   ]
  },
  {
   "cell_type": "markdown",
   "id": "3e339239",
   "metadata": {},
   "source": [
    "## III. Assess Data"
   ]
  },
  {
   "cell_type": "markdown",
   "id": "f360c3be",
   "metadata": {},
   "source": [
    "### Twitter Archive "
   ]
  },
  {
   "cell_type": "code",
   "execution_count": 413,
   "id": "623e034d",
   "metadata": {},
   "outputs": [
    {
     "name": "stdout",
     "output_type": "stream",
     "text": [
      "<class 'pandas.core.frame.DataFrame'>\n",
      "RangeIndex: 2356 entries, 0 to 2355\n",
      "Data columns (total 17 columns):\n",
      " #   Column                      Non-Null Count  Dtype  \n",
      "---  ------                      --------------  -----  \n",
      " 0   tweet_id                    2356 non-null   int64  \n",
      " 1   in_reply_to_status_id       78 non-null     float64\n",
      " 2   in_reply_to_user_id         78 non-null     float64\n",
      " 3   timestamp                   2356 non-null   object \n",
      " 4   source                      2356 non-null   object \n",
      " 5   text                        2356 non-null   object \n",
      " 6   retweeted_status_id         181 non-null    float64\n",
      " 7   retweeted_status_user_id    181 non-null    float64\n",
      " 8   retweeted_status_timestamp  181 non-null    object \n",
      " 9   expanded_urls               2297 non-null   object \n",
      " 10  rating_numerator            2356 non-null   int64  \n",
      " 11  rating_denominator          2356 non-null   int64  \n",
      " 12  name                        2356 non-null   object \n",
      " 13  doggo                       2356 non-null   object \n",
      " 14  floofer                     2356 non-null   object \n",
      " 15  pupper                      2356 non-null   object \n",
      " 16  puppo                       2356 non-null   object \n",
      "dtypes: float64(4), int64(3), object(10)\n",
      "memory usage: 313.0+ KB\n"
     ]
    }
   ],
   "source": [
    "twitter_archive.info()"
   ]
  },
  {
   "cell_type": "code",
   "execution_count": 414,
   "id": "6f94e30c",
   "metadata": {},
   "outputs": [
    {
     "data": {
      "text/html": [
       "<div>\n",
       "<style scoped>\n",
       "    .dataframe tbody tr th:only-of-type {\n",
       "        vertical-align: middle;\n",
       "    }\n",
       "\n",
       "    .dataframe tbody tr th {\n",
       "        vertical-align: top;\n",
       "    }\n",
       "\n",
       "    .dataframe thead th {\n",
       "        text-align: right;\n",
       "    }\n",
       "</style>\n",
       "<table border=\"1\" class=\"dataframe\">\n",
       "  <thead>\n",
       "    <tr style=\"text-align: right;\">\n",
       "      <th></th>\n",
       "      <th>tweet_id</th>\n",
       "      <th>in_reply_to_status_id</th>\n",
       "      <th>in_reply_to_user_id</th>\n",
       "      <th>retweeted_status_id</th>\n",
       "      <th>retweeted_status_user_id</th>\n",
       "      <th>rating_numerator</th>\n",
       "      <th>rating_denominator</th>\n",
       "    </tr>\n",
       "  </thead>\n",
       "  <tbody>\n",
       "    <tr>\n",
       "      <th>count</th>\n",
       "      <td>2.356000e+03</td>\n",
       "      <td>7.800000e+01</td>\n",
       "      <td>7.800000e+01</td>\n",
       "      <td>1.810000e+02</td>\n",
       "      <td>1.810000e+02</td>\n",
       "      <td>2356.000000</td>\n",
       "      <td>2356.000000</td>\n",
       "    </tr>\n",
       "    <tr>\n",
       "      <th>mean</th>\n",
       "      <td>7.427716e+17</td>\n",
       "      <td>7.455079e+17</td>\n",
       "      <td>2.014171e+16</td>\n",
       "      <td>7.720400e+17</td>\n",
       "      <td>1.241698e+16</td>\n",
       "      <td>13.126486</td>\n",
       "      <td>10.455433</td>\n",
       "    </tr>\n",
       "    <tr>\n",
       "      <th>std</th>\n",
       "      <td>6.856705e+16</td>\n",
       "      <td>7.582492e+16</td>\n",
       "      <td>1.252797e+17</td>\n",
       "      <td>6.236928e+16</td>\n",
       "      <td>9.599254e+16</td>\n",
       "      <td>45.876648</td>\n",
       "      <td>6.745237</td>\n",
       "    </tr>\n",
       "    <tr>\n",
       "      <th>min</th>\n",
       "      <td>6.660209e+17</td>\n",
       "      <td>6.658147e+17</td>\n",
       "      <td>1.185634e+07</td>\n",
       "      <td>6.661041e+17</td>\n",
       "      <td>7.832140e+05</td>\n",
       "      <td>0.000000</td>\n",
       "      <td>0.000000</td>\n",
       "    </tr>\n",
       "    <tr>\n",
       "      <th>25%</th>\n",
       "      <td>6.783989e+17</td>\n",
       "      <td>6.757419e+17</td>\n",
       "      <td>3.086374e+08</td>\n",
       "      <td>7.186315e+17</td>\n",
       "      <td>4.196984e+09</td>\n",
       "      <td>10.000000</td>\n",
       "      <td>10.000000</td>\n",
       "    </tr>\n",
       "    <tr>\n",
       "      <th>50%</th>\n",
       "      <td>7.196279e+17</td>\n",
       "      <td>7.038708e+17</td>\n",
       "      <td>4.196984e+09</td>\n",
       "      <td>7.804657e+17</td>\n",
       "      <td>4.196984e+09</td>\n",
       "      <td>11.000000</td>\n",
       "      <td>10.000000</td>\n",
       "    </tr>\n",
       "    <tr>\n",
       "      <th>75%</th>\n",
       "      <td>7.993373e+17</td>\n",
       "      <td>8.257804e+17</td>\n",
       "      <td>4.196984e+09</td>\n",
       "      <td>8.203146e+17</td>\n",
       "      <td>4.196984e+09</td>\n",
       "      <td>12.000000</td>\n",
       "      <td>10.000000</td>\n",
       "    </tr>\n",
       "    <tr>\n",
       "      <th>max</th>\n",
       "      <td>8.924206e+17</td>\n",
       "      <td>8.862664e+17</td>\n",
       "      <td>8.405479e+17</td>\n",
       "      <td>8.874740e+17</td>\n",
       "      <td>7.874618e+17</td>\n",
       "      <td>1776.000000</td>\n",
       "      <td>170.000000</td>\n",
       "    </tr>\n",
       "  </tbody>\n",
       "</table>\n",
       "</div>"
      ],
      "text/plain": [
       "           tweet_id  in_reply_to_status_id  in_reply_to_user_id  \\\n",
       "count  2.356000e+03           7.800000e+01         7.800000e+01   \n",
       "mean   7.427716e+17           7.455079e+17         2.014171e+16   \n",
       "std    6.856705e+16           7.582492e+16         1.252797e+17   \n",
       "min    6.660209e+17           6.658147e+17         1.185634e+07   \n",
       "25%    6.783989e+17           6.757419e+17         3.086374e+08   \n",
       "50%    7.196279e+17           7.038708e+17         4.196984e+09   \n",
       "75%    7.993373e+17           8.257804e+17         4.196984e+09   \n",
       "max    8.924206e+17           8.862664e+17         8.405479e+17   \n",
       "\n",
       "       retweeted_status_id  retweeted_status_user_id  rating_numerator  \\\n",
       "count         1.810000e+02              1.810000e+02       2356.000000   \n",
       "mean          7.720400e+17              1.241698e+16         13.126486   \n",
       "std           6.236928e+16              9.599254e+16         45.876648   \n",
       "min           6.661041e+17              7.832140e+05          0.000000   \n",
       "25%           7.186315e+17              4.196984e+09         10.000000   \n",
       "50%           7.804657e+17              4.196984e+09         11.000000   \n",
       "75%           8.203146e+17              4.196984e+09         12.000000   \n",
       "max           8.874740e+17              7.874618e+17       1776.000000   \n",
       "\n",
       "       rating_denominator  \n",
       "count         2356.000000  \n",
       "mean            10.455433  \n",
       "std              6.745237  \n",
       "min              0.000000  \n",
       "25%             10.000000  \n",
       "50%             10.000000  \n",
       "75%             10.000000  \n",
       "max            170.000000  "
      ]
     },
     "execution_count": 414,
     "metadata": {},
     "output_type": "execute_result"
    }
   ],
   "source": [
    "twitter_archive.describe()"
   ]
  },
  {
   "cell_type": "code",
   "execution_count": 415,
   "id": "7ec47f63",
   "metadata": {},
   "outputs": [
    {
     "data": {
      "text/plain": [
       "0"
      ]
     },
     "execution_count": 415,
     "metadata": {},
     "output_type": "execute_result"
    }
   ],
   "source": [
    "twitter_archive.duplicated().sum()"
   ]
  },
  {
   "cell_type": "code",
   "execution_count": 416,
   "id": "b7bc955e",
   "metadata": {},
   "outputs": [
    {
     "data": {
      "text/plain": [
       "0"
      ]
     },
     "execution_count": 416,
     "metadata": {},
     "output_type": "execute_result"
    }
   ],
   "source": [
    "twitter_archive.tweet_id.duplicated().sum()"
   ]
  },
  {
   "cell_type": "code",
   "execution_count": 417,
   "id": "1d4e4e06",
   "metadata": {},
   "outputs": [
    {
     "data": {
      "text/plain": [
       "12      558\n",
       "11      464\n",
       "10      461\n",
       "13      351\n",
       "9       158\n",
       "8       102\n",
       "7        55\n",
       "14       54\n",
       "5        37\n",
       "6        32\n",
       "3        19\n",
       "4        17\n",
       "2         9\n",
       "1         9\n",
       "75        2\n",
       "15        2\n",
       "420       2\n",
       "0         2\n",
       "80        1\n",
       "144       1\n",
       "17        1\n",
       "26        1\n",
       "20        1\n",
       "121       1\n",
       "143       1\n",
       "44        1\n",
       "60        1\n",
       "45        1\n",
       "50        1\n",
       "99        1\n",
       "204       1\n",
       "1776      1\n",
       "165       1\n",
       "666       1\n",
       "27        1\n",
       "182       1\n",
       "24        1\n",
       "960       1\n",
       "84        1\n",
       "88        1\n",
       "Name: rating_numerator, dtype: int64"
      ]
     },
     "execution_count": 417,
     "metadata": {},
     "output_type": "execute_result"
    }
   ],
   "source": [
    "twitter_archive.rating_numerator.value_counts()"
   ]
  },
  {
   "cell_type": "code",
   "execution_count": 418,
   "id": "355bcb94",
   "metadata": {},
   "outputs": [
    {
     "data": {
      "text/plain": [
       "10     2333\n",
       "11        3\n",
       "50        3\n",
       "20        2\n",
       "80        2\n",
       "70        1\n",
       "7         1\n",
       "15        1\n",
       "150       1\n",
       "170       1\n",
       "0         1\n",
       "90        1\n",
       "40        1\n",
       "130       1\n",
       "110       1\n",
       "16        1\n",
       "120       1\n",
       "2         1\n",
       "Name: rating_denominator, dtype: int64"
      ]
     },
     "execution_count": 418,
     "metadata": {},
     "output_type": "execute_result"
    }
   ],
   "source": [
    "twitter_archive.rating_denominator.value_counts()"
   ]
  },
  {
   "cell_type": "code",
   "execution_count": 419,
   "id": "846ba906",
   "metadata": {},
   "outputs": [
    {
     "data": {
      "text/plain": [
       "None     2259\n",
       "doggo      97\n",
       "Name: doggo, dtype: int64"
      ]
     },
     "execution_count": 419,
     "metadata": {},
     "output_type": "execute_result"
    }
   ],
   "source": [
    "twitter_archive.doggo.value_counts()"
   ]
  },
  {
   "cell_type": "code",
   "execution_count": 420,
   "id": "ac1c0183",
   "metadata": {},
   "outputs": [
    {
     "data": {
      "text/plain": [
       "None       2346\n",
       "floofer      10\n",
       "Name: floofer, dtype: int64"
      ]
     },
     "execution_count": 420,
     "metadata": {},
     "output_type": "execute_result"
    }
   ],
   "source": [
    "twitter_archive.floofer.value_counts()"
   ]
  },
  {
   "cell_type": "code",
   "execution_count": 421,
   "id": "1bb91bfc",
   "metadata": {},
   "outputs": [
    {
     "data": {
      "text/plain": [
       "None      2099\n",
       "pupper     257\n",
       "Name: pupper, dtype: int64"
      ]
     },
     "execution_count": 421,
     "metadata": {},
     "output_type": "execute_result"
    }
   ],
   "source": [
    "twitter_archive.pupper.value_counts()"
   ]
  },
  {
   "cell_type": "code",
   "execution_count": 422,
   "id": "8aa50e98",
   "metadata": {},
   "outputs": [
    {
     "data": {
      "text/plain": [
       "None     2326\n",
       "puppo      30\n",
       "Name: puppo, dtype: int64"
      ]
     },
     "execution_count": 422,
     "metadata": {},
     "output_type": "execute_result"
    }
   ],
   "source": [
    "twitter_archive.puppo.value_counts()"
   ]
  },
  {
   "cell_type": "code",
   "execution_count": 423,
   "id": "6c9708e2",
   "metadata": {},
   "outputs": [
    {
     "data": {
      "text/plain": [
       "<a href=\"http://twitter.com/download/iphone\" rel=\"nofollow\">Twitter for iPhone</a>     2221\n",
       "<a href=\"http://vine.co\" rel=\"nofollow\">Vine - Make a Scene</a>                          91\n",
       "<a href=\"http://twitter.com\" rel=\"nofollow\">Twitter Web Client</a>                       33\n",
       "<a href=\"https://about.twitter.com/products/tweetdeck\" rel=\"nofollow\">TweetDeck</a>      11\n",
       "Name: source, dtype: int64"
      ]
     },
     "execution_count": 423,
     "metadata": {},
     "output_type": "execute_result"
    }
   ],
   "source": [
    "twitter_archive.source.value_counts()"
   ]
  },
  {
   "cell_type": "code",
   "execution_count": 424,
   "id": "e8cf3d06",
   "metadata": {},
   "outputs": [
    {
     "data": {
      "text/plain": [
       "12      558\n",
       "11      464\n",
       "10      461\n",
       "13      351\n",
       "9       158\n",
       "8       102\n",
       "7        55\n",
       "14       54\n",
       "5        37\n",
       "6        32\n",
       "3        19\n",
       "4        17\n",
       "2         9\n",
       "1         9\n",
       "75        2\n",
       "15        2\n",
       "420       2\n",
       "0         2\n",
       "80        1\n",
       "144       1\n",
       "17        1\n",
       "26        1\n",
       "20        1\n",
       "121       1\n",
       "143       1\n",
       "44        1\n",
       "60        1\n",
       "45        1\n",
       "50        1\n",
       "99        1\n",
       "204       1\n",
       "1776      1\n",
       "165       1\n",
       "666       1\n",
       "27        1\n",
       "182       1\n",
       "24        1\n",
       "960       1\n",
       "84        1\n",
       "88        1\n",
       "Name: rating_numerator, dtype: int64"
      ]
     },
     "execution_count": 424,
     "metadata": {},
     "output_type": "execute_result"
    }
   ],
   "source": [
    "twitter_archive.rating_numerator.value_counts()"
   ]
  },
  {
   "cell_type": "markdown",
   "id": "0ddc388f",
   "metadata": {},
   "source": [
    "#### Twitter Archive Observations\n",
    "\n",
    "- in_reply_to_status_id, in_reply_to_user_id, retweeted_status_id, retweeted_status_user_id should be converted to string\n",
    "- timestamp should be converted datetime (remove +0000 from end of strings)\n",
    "- Combine doggo, floofer, pupper, puppo into one columns dog_stage.\n",
    "- Source column should be be simplified. Results should be as such: IPhone, Web, Vine & TweetDeck.\n",
    "- Only need the original ratings without any pictures, retweets, or replies. Additionally, remove any related columns. The picture aspect will be addressed at a later stage.\n",
    "- Abnormal rating_denominator values exceeding 10"
   ]
  },
  {
   "cell_type": "markdown",
   "id": "ee40b991",
   "metadata": {},
   "source": [
    "### Image Prediction"
   ]
  },
  {
   "cell_type": "code",
   "execution_count": 425,
   "id": "1f1335fa",
   "metadata": {},
   "outputs": [
    {
     "name": "stdout",
     "output_type": "stream",
     "text": [
      "<class 'pandas.core.frame.DataFrame'>\n",
      "RangeIndex: 2075 entries, 0 to 2074\n",
      "Data columns (total 12 columns):\n",
      " #   Column    Non-Null Count  Dtype  \n",
      "---  ------    --------------  -----  \n",
      " 0   tweet_id  2075 non-null   int64  \n",
      " 1   jpg_url   2075 non-null   object \n",
      " 2   img_num   2075 non-null   int64  \n",
      " 3   p1        2075 non-null   object \n",
      " 4   p1_conf   2075 non-null   float64\n",
      " 5   p1_dog    2075 non-null   bool   \n",
      " 6   p2        2075 non-null   object \n",
      " 7   p2_conf   2075 non-null   float64\n",
      " 8   p2_dog    2075 non-null   bool   \n",
      " 9   p3        2075 non-null   object \n",
      " 10  p3_conf   2075 non-null   float64\n",
      " 11  p3_dog    2075 non-null   bool   \n",
      "dtypes: bool(3), float64(3), int64(2), object(4)\n",
      "memory usage: 152.1+ KB\n"
     ]
    }
   ],
   "source": [
    "image_prediction.info()"
   ]
  },
  {
   "cell_type": "code",
   "execution_count": 426,
   "id": "7ff6391c",
   "metadata": {},
   "outputs": [
    {
     "data": {
      "text/html": [
       "<div>\n",
       "<style scoped>\n",
       "    .dataframe tbody tr th:only-of-type {\n",
       "        vertical-align: middle;\n",
       "    }\n",
       "\n",
       "    .dataframe tbody tr th {\n",
       "        vertical-align: top;\n",
       "    }\n",
       "\n",
       "    .dataframe thead th {\n",
       "        text-align: right;\n",
       "    }\n",
       "</style>\n",
       "<table border=\"1\" class=\"dataframe\">\n",
       "  <thead>\n",
       "    <tr style=\"text-align: right;\">\n",
       "      <th></th>\n",
       "      <th>tweet_id</th>\n",
       "      <th>img_num</th>\n",
       "      <th>p1_conf</th>\n",
       "      <th>p2_conf</th>\n",
       "      <th>p3_conf</th>\n",
       "    </tr>\n",
       "  </thead>\n",
       "  <tbody>\n",
       "    <tr>\n",
       "      <th>count</th>\n",
       "      <td>2.075000e+03</td>\n",
       "      <td>2075.000000</td>\n",
       "      <td>2075.000000</td>\n",
       "      <td>2.075000e+03</td>\n",
       "      <td>2.075000e+03</td>\n",
       "    </tr>\n",
       "    <tr>\n",
       "      <th>mean</th>\n",
       "      <td>7.384514e+17</td>\n",
       "      <td>1.203855</td>\n",
       "      <td>0.594548</td>\n",
       "      <td>1.345886e-01</td>\n",
       "      <td>6.032417e-02</td>\n",
       "    </tr>\n",
       "    <tr>\n",
       "      <th>std</th>\n",
       "      <td>6.785203e+16</td>\n",
       "      <td>0.561875</td>\n",
       "      <td>0.271174</td>\n",
       "      <td>1.006657e-01</td>\n",
       "      <td>5.090593e-02</td>\n",
       "    </tr>\n",
       "    <tr>\n",
       "      <th>min</th>\n",
       "      <td>6.660209e+17</td>\n",
       "      <td>1.000000</td>\n",
       "      <td>0.044333</td>\n",
       "      <td>1.011300e-08</td>\n",
       "      <td>1.740170e-10</td>\n",
       "    </tr>\n",
       "    <tr>\n",
       "      <th>25%</th>\n",
       "      <td>6.764835e+17</td>\n",
       "      <td>1.000000</td>\n",
       "      <td>0.364412</td>\n",
       "      <td>5.388625e-02</td>\n",
       "      <td>1.622240e-02</td>\n",
       "    </tr>\n",
       "    <tr>\n",
       "      <th>50%</th>\n",
       "      <td>7.119988e+17</td>\n",
       "      <td>1.000000</td>\n",
       "      <td>0.588230</td>\n",
       "      <td>1.181810e-01</td>\n",
       "      <td>4.944380e-02</td>\n",
       "    </tr>\n",
       "    <tr>\n",
       "      <th>75%</th>\n",
       "      <td>7.932034e+17</td>\n",
       "      <td>1.000000</td>\n",
       "      <td>0.843855</td>\n",
       "      <td>1.955655e-01</td>\n",
       "      <td>9.180755e-02</td>\n",
       "    </tr>\n",
       "    <tr>\n",
       "      <th>max</th>\n",
       "      <td>8.924206e+17</td>\n",
       "      <td>4.000000</td>\n",
       "      <td>1.000000</td>\n",
       "      <td>4.880140e-01</td>\n",
       "      <td>2.734190e-01</td>\n",
       "    </tr>\n",
       "  </tbody>\n",
       "</table>\n",
       "</div>"
      ],
      "text/plain": [
       "           tweet_id      img_num      p1_conf       p2_conf       p3_conf\n",
       "count  2.075000e+03  2075.000000  2075.000000  2.075000e+03  2.075000e+03\n",
       "mean   7.384514e+17     1.203855     0.594548  1.345886e-01  6.032417e-02\n",
       "std    6.785203e+16     0.561875     0.271174  1.006657e-01  5.090593e-02\n",
       "min    6.660209e+17     1.000000     0.044333  1.011300e-08  1.740170e-10\n",
       "25%    6.764835e+17     1.000000     0.364412  5.388625e-02  1.622240e-02\n",
       "50%    7.119988e+17     1.000000     0.588230  1.181810e-01  4.944380e-02\n",
       "75%    7.932034e+17     1.000000     0.843855  1.955655e-01  9.180755e-02\n",
       "max    8.924206e+17     4.000000     1.000000  4.880140e-01  2.734190e-01"
      ]
     },
     "execution_count": 426,
     "metadata": {},
     "output_type": "execute_result"
    }
   ],
   "source": [
    "image_prediction.describe()"
   ]
  },
  {
   "cell_type": "code",
   "execution_count": 427,
   "id": "1dee29b8",
   "metadata": {},
   "outputs": [
    {
     "data": {
      "text/plain": [
       "0"
      ]
     },
     "execution_count": 427,
     "metadata": {},
     "output_type": "execute_result"
    }
   ],
   "source": [
    "image_prediction.duplicated().sum()"
   ]
  },
  {
   "cell_type": "code",
   "execution_count": 428,
   "id": "8f17049d",
   "metadata": {},
   "outputs": [
    {
     "data": {
      "text/plain": [
       "0"
      ]
     },
     "execution_count": 428,
     "metadata": {},
     "output_type": "execute_result"
    }
   ],
   "source": [
    "image_prediction.tweet_id.duplicated().sum()"
   ]
  },
  {
   "cell_type": "code",
   "execution_count": 429,
   "id": "eed5251b",
   "metadata": {},
   "outputs": [
    {
     "data": {
      "text/plain": [
       "66"
      ]
     },
     "execution_count": 429,
     "metadata": {},
     "output_type": "execute_result"
    }
   ],
   "source": [
    "image_prediction.jpg_url.duplicated().sum()"
   ]
  },
  {
   "cell_type": "code",
   "execution_count": 430,
   "id": "5b3a2211",
   "metadata": {},
   "outputs": [
    {
     "data": {
      "text/plain": [
       "golden_retriever      150\n",
       "Labrador_retriever    100\n",
       "Pembroke               89\n",
       "Chihuahua              83\n",
       "pug                    57\n",
       "                     ... \n",
       "pillow                  1\n",
       "carousel                1\n",
       "bald_eagle              1\n",
       "lorikeet                1\n",
       "orange                  1\n",
       "Name: p1, Length: 378, dtype: int64"
      ]
     },
     "execution_count": 430,
     "metadata": {},
     "output_type": "execute_result"
    }
   ],
   "source": [
    "image_prediction.p1.value_counts()"
   ]
  },
  {
   "cell_type": "code",
   "execution_count": 431,
   "id": "b7d334e2",
   "metadata": {},
   "outputs": [
    {
     "data": {
      "text/plain": [
       "Labrador_retriever    104\n",
       "golden_retriever       92\n",
       "Cardigan               73\n",
       "Chihuahua              44\n",
       "Pomeranian             42\n",
       "                     ... \n",
       "medicine_chest          1\n",
       "quail                   1\n",
       "horse_cart              1\n",
       "waffle_iron             1\n",
       "bagel                   1\n",
       "Name: p2, Length: 405, dtype: int64"
      ]
     },
     "execution_count": 431,
     "metadata": {},
     "output_type": "execute_result"
    }
   ],
   "source": [
    "image_prediction.p2.value_counts()"
   ]
  },
  {
   "cell_type": "code",
   "execution_count": 432,
   "id": "80e11fe3",
   "metadata": {},
   "outputs": [
    {
     "data": {
      "text/plain": [
       "Labrador_retriever    79\n",
       "Chihuahua             58\n",
       "golden_retriever      48\n",
       "Eskimo_dog            38\n",
       "kelpie                35\n",
       "                      ..\n",
       "ox                     1\n",
       "assault_rifle          1\n",
       "axolotl                1\n",
       "pot                    1\n",
       "banana                 1\n",
       "Name: p3, Length: 408, dtype: int64"
      ]
     },
     "execution_count": 432,
     "metadata": {},
     "output_type": "execute_result"
    }
   ],
   "source": [
    "image_prediction.p3.value_counts()"
   ]
  },
  {
   "cell_type": "markdown",
   "id": "92866a24",
   "metadata": {},
   "source": [
    "#### Image Prediction Observations\n",
    "\n",
    "- Many of the predictions are absurd results like: banana, pot, assault_rifle, etc.\n",
    "- There is 66 duplicated jpg_url results\n",
    "- Only a single column with the most confident dog breed prediction"
   ]
  },
  {
   "cell_type": "markdown",
   "id": "aeac62ac",
   "metadata": {},
   "source": [
    "### Tweet Json"
   ]
  },
  {
   "cell_type": "code",
   "execution_count": 433,
   "id": "4cdd6fb5",
   "metadata": {},
   "outputs": [
    {
     "name": "stdout",
     "output_type": "stream",
     "text": [
      "<class 'pandas.core.frame.DataFrame'>\n",
      "RangeIndex: 2354 entries, 0 to 2353\n",
      "Data columns (total 3 columns):\n",
      " #   Column          Non-Null Count  Dtype\n",
      "---  ------          --------------  -----\n",
      " 0   tweet_id        2354 non-null   int64\n",
      " 1   retweet_count   2354 non-null   int64\n",
      " 2   favorite_count  2354 non-null   int64\n",
      "dtypes: int64(3)\n",
      "memory usage: 55.3 KB\n"
     ]
    }
   ],
   "source": [
    "tweet_json.info()"
   ]
  },
  {
   "cell_type": "code",
   "execution_count": 434,
   "id": "b725d355",
   "metadata": {},
   "outputs": [
    {
     "data": {
      "text/html": [
       "<div>\n",
       "<style scoped>\n",
       "    .dataframe tbody tr th:only-of-type {\n",
       "        vertical-align: middle;\n",
       "    }\n",
       "\n",
       "    .dataframe tbody tr th {\n",
       "        vertical-align: top;\n",
       "    }\n",
       "\n",
       "    .dataframe thead th {\n",
       "        text-align: right;\n",
       "    }\n",
       "</style>\n",
       "<table border=\"1\" class=\"dataframe\">\n",
       "  <thead>\n",
       "    <tr style=\"text-align: right;\">\n",
       "      <th></th>\n",
       "      <th>tweet_id</th>\n",
       "      <th>retweet_count</th>\n",
       "      <th>favorite_count</th>\n",
       "    </tr>\n",
       "  </thead>\n",
       "  <tbody>\n",
       "    <tr>\n",
       "      <th>count</th>\n",
       "      <td>2.354000e+03</td>\n",
       "      <td>2354.000000</td>\n",
       "      <td>2354.000000</td>\n",
       "    </tr>\n",
       "    <tr>\n",
       "      <th>mean</th>\n",
       "      <td>7.426978e+17</td>\n",
       "      <td>3164.797366</td>\n",
       "      <td>8080.968564</td>\n",
       "    </tr>\n",
       "    <tr>\n",
       "      <th>std</th>\n",
       "      <td>6.852812e+16</td>\n",
       "      <td>5284.770364</td>\n",
       "      <td>11814.771334</td>\n",
       "    </tr>\n",
       "    <tr>\n",
       "      <th>min</th>\n",
       "      <td>6.660209e+17</td>\n",
       "      <td>0.000000</td>\n",
       "      <td>0.000000</td>\n",
       "    </tr>\n",
       "    <tr>\n",
       "      <th>25%</th>\n",
       "      <td>6.783975e+17</td>\n",
       "      <td>624.500000</td>\n",
       "      <td>1415.000000</td>\n",
       "    </tr>\n",
       "    <tr>\n",
       "      <th>50%</th>\n",
       "      <td>7.194596e+17</td>\n",
       "      <td>1473.500000</td>\n",
       "      <td>3603.500000</td>\n",
       "    </tr>\n",
       "    <tr>\n",
       "      <th>75%</th>\n",
       "      <td>7.993058e+17</td>\n",
       "      <td>3652.000000</td>\n",
       "      <td>10122.250000</td>\n",
       "    </tr>\n",
       "    <tr>\n",
       "      <th>max</th>\n",
       "      <td>8.924206e+17</td>\n",
       "      <td>79515.000000</td>\n",
       "      <td>132810.000000</td>\n",
       "    </tr>\n",
       "  </tbody>\n",
       "</table>\n",
       "</div>"
      ],
      "text/plain": [
       "           tweet_id  retweet_count  favorite_count\n",
       "count  2.354000e+03    2354.000000     2354.000000\n",
       "mean   7.426978e+17    3164.797366     8080.968564\n",
       "std    6.852812e+16    5284.770364    11814.771334\n",
       "min    6.660209e+17       0.000000        0.000000\n",
       "25%    6.783975e+17     624.500000     1415.000000\n",
       "50%    7.194596e+17    1473.500000     3603.500000\n",
       "75%    7.993058e+17    3652.000000    10122.250000\n",
       "max    8.924206e+17   79515.000000   132810.000000"
      ]
     },
     "execution_count": 434,
     "metadata": {},
     "output_type": "execute_result"
    }
   ],
   "source": [
    "tweet_json.describe()"
   ]
  },
  {
   "cell_type": "code",
   "execution_count": 435,
   "id": "0e0c3a03",
   "metadata": {},
   "outputs": [
    {
     "data": {
      "text/plain": [
       "0"
      ]
     },
     "execution_count": 435,
     "metadata": {},
     "output_type": "execute_result"
    }
   ],
   "source": [
    "tweet_json.duplicated().sum()"
   ]
  },
  {
   "cell_type": "code",
   "execution_count": 436,
   "id": "e576d00f",
   "metadata": {},
   "outputs": [
    {
     "data": {
      "text/plain": [
       "0"
      ]
     },
     "execution_count": 436,
     "metadata": {},
     "output_type": "execute_result"
    }
   ],
   "source": [
    "tweet_json.tweet_id.duplicated().sum()"
   ]
  },
  {
   "cell_type": "markdown",
   "id": "76e5a8a8",
   "metadata": {},
   "source": [
    "#### Image Prediction Observations\n",
    "- The results in this table should be combined with the other two tables\n",
    "- There seems to be a couple of missing \n",
    "\n",
    "## Tidiness and Quality\n",
    "\n",
    "### Tidiness (2)\n",
    "\n",
    "*All Tables*\n",
    "- Data should be combined from all three tables and combined into \n",
    "\n",
    "*twitter archive*\n",
    "- A new column should be created to store all the different stages of dogs in one column\n",
    "\n",
    "### Quality (8)\n",
    "\n",
    "*Twitter Archive*\n",
    "- in_reply_to_status_id, in_reply_to_user_id, retweeted_status_id, retweeted_status_user_id should be converted to string\n",
    "- Timestamp should be converted datetime (remove +0000 from end of strings)\n",
    "- Source column should be be simplified. Results should be as such: IPhone, Web, Vine & TweetDeck.\n",
    "- Only need the original ratings without any pictures, retweets, or replies. Additionally, remove any related columns. The picture aspect will be addressed at a later stage.\n",
    "- Abnormal rating_denominator values exceeding 10\n",
    "\n",
    "*Image Prediction* \n",
    "\n",
    "- Only a single column with the most confident dog breed prediction is needed\n",
    "\n",
    "*Tweet Json*\n",
    "- Many of the predictions are absurd results like: banana, pot, assault_rifle, etc.\n",
    "- There is 66 duplicated jpg_url results\n"
   ]
  },
  {
   "cell_type": "markdown",
   "id": "e5cfb54b",
   "metadata": {},
   "source": [
    "## IV. Clean Data"
   ]
  },
  {
   "cell_type": "code",
   "execution_count": 437,
   "id": "6fcfe5ff",
   "metadata": {},
   "outputs": [],
   "source": [
    "# Creat clean copies\n",
    "twitter_archive_clean = twitter_archive.copy()\n",
    "image_prediction_clean = image_prediction.copy()\n",
    "tweet_json_clean = tweet_json.copy()"
   ]
  },
  {
   "cell_type": "markdown",
   "id": "18e3e3a7",
   "metadata": {},
   "source": [
    "## *Quality issues cleaning*"
   ]
  },
  {
   "cell_type": "markdown",
   "id": "d3fff7d2",
   "metadata": {},
   "source": [
    "#### Define\n",
    "Delete retweets and replies and only keepy original ratings\n",
    "\n",
    "#### Code"
   ]
  },
  {
   "cell_type": "code",
   "execution_count": 438,
   "id": "343ee40d",
   "metadata": {},
   "outputs": [],
   "source": [
    "# Find all rows with a null in_reply_to_status_id status\n",
    "twitter_archive_clean = twitter_archive_clean[twitter_archive_clean.in_reply_to_status_id.isnull()]\n",
    "\n",
    "# Find all rows with a null retweeted_status_id status\n",
    "twitter_archive_clean = twitter_archive_clean[twitter_archive_clean.retweeted_status_id.isnull()]"
   ]
  },
  {
   "cell_type": "markdown",
   "id": "d9bd891f",
   "metadata": {},
   "source": [
    "#### Test"
   ]
  },
  {
   "cell_type": "code",
   "execution_count": 439,
   "id": "723b7c40",
   "metadata": {},
   "outputs": [
    {
     "name": "stdout",
     "output_type": "stream",
     "text": [
      "<class 'pandas.core.frame.DataFrame'>\n",
      "Int64Index: 2097 entries, 0 to 2355\n",
      "Data columns (total 17 columns):\n",
      " #   Column                      Non-Null Count  Dtype  \n",
      "---  ------                      --------------  -----  \n",
      " 0   tweet_id                    2097 non-null   int64  \n",
      " 1   in_reply_to_status_id       0 non-null      float64\n",
      " 2   in_reply_to_user_id         0 non-null      float64\n",
      " 3   timestamp                   2097 non-null   object \n",
      " 4   source                      2097 non-null   object \n",
      " 5   text                        2097 non-null   object \n",
      " 6   retweeted_status_id         0 non-null      float64\n",
      " 7   retweeted_status_user_id    0 non-null      float64\n",
      " 8   retweeted_status_timestamp  0 non-null      object \n",
      " 9   expanded_urls               2094 non-null   object \n",
      " 10  rating_numerator            2097 non-null   int64  \n",
      " 11  rating_denominator          2097 non-null   int64  \n",
      " 12  name                        2097 non-null   object \n",
      " 13  doggo                       2097 non-null   object \n",
      " 14  floofer                     2097 non-null   object \n",
      " 15  pupper                      2097 non-null   object \n",
      " 16  puppo                       2097 non-null   object \n",
      "dtypes: float64(4), int64(3), object(10)\n",
      "memory usage: 294.9+ KB\n"
     ]
    }
   ],
   "source": [
    "twitter_archive_clean.info() "
   ]
  },
  {
   "cell_type": "markdown",
   "id": "7344a34b",
   "metadata": {},
   "source": [
    "#### Define \n",
    "drop columns that are related to retweets and replies. After dropping those columns, datatype issue with those columns will no longer be an issue\n",
    "\n",
    "#### Code"
   ]
  },
  {
   "cell_type": "code",
   "execution_count": 440,
   "id": "d436cef3",
   "metadata": {},
   "outputs": [],
   "source": [
    "# Remove \n",
    "twitter_archive_clean = twitter_archive_clean.drop(['in_reply_to_status_id', \n",
    "                                                    'in_reply_to_user_id',\n",
    "                                                    'retweeted_status_id',\n",
    "                                                    'retweeted_status_user_id',\n",
    "                                                    'retweeted_status_timestamp'],axis=1)"
   ]
  },
  {
   "cell_type": "markdown",
   "id": "fd4de66f",
   "metadata": {},
   "source": [
    "#### Test"
   ]
  },
  {
   "cell_type": "code",
   "execution_count": 441,
   "id": "8d7d09b0",
   "metadata": {},
   "outputs": [
    {
     "name": "stdout",
     "output_type": "stream",
     "text": [
      "<class 'pandas.core.frame.DataFrame'>\n",
      "Int64Index: 2097 entries, 0 to 2355\n",
      "Data columns (total 12 columns):\n",
      " #   Column              Non-Null Count  Dtype \n",
      "---  ------              --------------  ----- \n",
      " 0   tweet_id            2097 non-null   int64 \n",
      " 1   timestamp           2097 non-null   object\n",
      " 2   source              2097 non-null   object\n",
      " 3   text                2097 non-null   object\n",
      " 4   expanded_urls       2094 non-null   object\n",
      " 5   rating_numerator    2097 non-null   int64 \n",
      " 6   rating_denominator  2097 non-null   int64 \n",
      " 7   name                2097 non-null   object\n",
      " 8   doggo               2097 non-null   object\n",
      " 9   floofer             2097 non-null   object\n",
      " 10  pupper              2097 non-null   object\n",
      " 11  puppo               2097 non-null   object\n",
      "dtypes: int64(3), object(9)\n",
      "memory usage: 213.0+ KB\n"
     ]
    }
   ],
   "source": [
    "twitter_archive_clean.info() "
   ]
  },
  {
   "cell_type": "markdown",
   "id": "efe2850c",
   "metadata": {},
   "source": [
    "#### Define \n",
    "Timestamp should be converted datetime (remove +0000 from end of strings)\n",
    "\n",
    "#### Code"
   ]
  },
  {
   "cell_type": "code",
   "execution_count": 442,
   "id": "02ffd5e2",
   "metadata": {},
   "outputs": [],
   "source": [
    "# Cut off the last 6 characters of 'records' records \n",
    "twitter_archive_clean['timestamp'] = twitter_archive_clean['timestamp'].str[:-6]\n",
    "twitter_archive_clean['timestamp'] = pd.to_datetime(twitter_archive_clean['timestamp'])"
   ]
  },
  {
   "cell_type": "markdown",
   "id": "a291a1f8",
   "metadata": {},
   "source": [
    "#### Test"
   ]
  },
  {
   "cell_type": "code",
   "execution_count": 443,
   "id": "72f60b86",
   "metadata": {},
   "outputs": [
    {
     "data": {
      "text/plain": [
       "0   2017-08-01 16:23:56\n",
       "1   2017-08-01 00:17:27\n",
       "2   2017-07-31 00:18:03\n",
       "3   2017-07-30 15:58:51\n",
       "4   2017-07-29 16:00:24\n",
       "Name: timestamp, dtype: datetime64[ns]"
      ]
     },
     "execution_count": 443,
     "metadata": {},
     "output_type": "execute_result"
    }
   ],
   "source": [
    "twitter_archive_clean['timestamp'].head()"
   ]
  },
  {
   "cell_type": "markdown",
   "id": "211f5025",
   "metadata": {},
   "source": [
    "#### Define \n",
    "Replace redundant source information with simpler categorical names\n",
    "\n",
    "#### Code"
   ]
  },
  {
   "cell_type": "code",
   "execution_count": 444,
   "id": "a3f6ce74",
   "metadata": {},
   "outputs": [],
   "source": [
    "twitter_archive_clean['source'] = twitter_archive_clean['source'].replace({'<a href=\"http://twitter.com/download/iphone\" rel=\"nofollow\">Twitter for iPhone</a>':'iPhone',\n",
    "                                                                     '<a href=\"http://vine.co\" rel=\"nofollow\">Vine - Make a Scene</a>':'Vine',\n",
    "                                                                     '<a href=\"http://twitter.com\" rel=\"nofollow\">Twitter Web Client</a>': 'Web',\n",
    "                                                                     '<a href=\"https://about.twitter.com/products/tweetdeck\" rel=\"nofollow\">TweetDeck</a>': 'TweetDeck'})"
   ]
  },
  {
   "cell_type": "markdown",
   "id": "0c3a66fa",
   "metadata": {},
   "source": [
    "#### Test"
   ]
  },
  {
   "cell_type": "code",
   "execution_count": 445,
   "id": "ce801525",
   "metadata": {},
   "outputs": [
    {
     "data": {
      "text/plain": [
       "iPhone       1964\n",
       "Vine           91\n",
       "Web            31\n",
       "TweetDeck      11\n",
       "Name: source, dtype: int64"
      ]
     },
     "execution_count": 445,
     "metadata": {},
     "output_type": "execute_result"
    }
   ],
   "source": [
    "twitter_archive_clean.source.value_counts()"
   ]
  },
  {
   "cell_type": "markdown",
   "id": "6c39117f",
   "metadata": {},
   "source": [
    "#### Define  \n",
    "Remove all entries that are not dogs\n",
    "\n",
    "#### Code"
   ]
  },
  {
   "cell_type": "code",
   "execution_count": 446,
   "id": "26bf75ac",
   "metadata": {},
   "outputs": [],
   "source": [
    "drop_list = image_prediction_clean.query('p1_dog == False and p2_dog == False and p3_dog == False')['tweet_id']\n",
    "\n",
    "# filter out all rows from image_prediction_clean with matching ids in the drop list array\n",
    "image_prediction_clean = image_prediction_clean[~image_prediction_clean.tweet_id.isin(drop_list)]\n",
    "\n",
    "# we will do the same for twitter_archive_clean & tweet_json_clean \n",
    "twitter_archive_clean = twitter_archive_clean[~twitter_archive_clean.tweet_id.isin(drop_list)]\n",
    "tweet_json_clean = tweet_json_clean[~tweet_json_clean.tweet_id.isin(drop_list)]\n"
   ]
  },
  {
   "cell_type": "markdown",
   "id": "0cefbb99",
   "metadata": {},
   "source": [
    "#### Test"
   ]
  },
  {
   "cell_type": "code",
   "execution_count": 447,
   "id": "9438077a",
   "metadata": {},
   "outputs": [
    {
     "name": "stdout",
     "output_type": "stream",
     "text": [
      "(1751, 12)\n",
      "(1792, 12)\n",
      "(2031, 3)\n"
     ]
    }
   ],
   "source": [
    "# View reducded number of rows after cleaning out all posts with no dogs\n",
    "print(image_prediction_clean.shape)\n",
    "print(twitter_archive_clean.shape)\n",
    "print(tweet_json_clean.shape)"
   ]
  },
  {
   "cell_type": "markdown",
   "id": "5def0868",
   "metadata": {},
   "source": [
    "#### Define \n",
    "Abnormal rating_denominator that exceed the 10 \n",
    "\n",
    "#### Code"
   ]
  },
  {
   "cell_type": "code",
   "execution_count": 448,
   "id": "daefc0db",
   "metadata": {},
   "outputs": [],
   "source": [
    "# Ensure that all rating_denominator's are equal to 10\n",
    "twitter_archive_clean['rating_denominator'] = 10"
   ]
  },
  {
   "cell_type": "markdown",
   "id": "d1af331a",
   "metadata": {},
   "source": [
    "#### Test"
   ]
  },
  {
   "cell_type": "code",
   "execution_count": 449,
   "id": "fd0b8f8e",
   "metadata": {},
   "outputs": [
    {
     "data": {
      "text/plain": [
       "10    1792\n",
       "Name: rating_denominator, dtype: int64"
      ]
     },
     "execution_count": 449,
     "metadata": {},
     "output_type": "execute_result"
    }
   ],
   "source": [
    "twitter_archive_clean['rating_denominator'].value_counts()"
   ]
  },
  {
   "cell_type": "markdown",
   "id": "c7617f11",
   "metadata": {},
   "source": [
    "#### Define  \n",
    "Reduce image prediction columns to a single one with the most confident prediction\n",
    "\n",
    "#### Code"
   ]
  },
  {
   "cell_type": "code",
   "execution_count": 450,
   "id": "47707ba1",
   "metadata": {},
   "outputs": [],
   "source": [
    "# Add a breed_prediction column and a confident_level column\n",
    "breed_prediction = []\n",
    "confident_level = []\n",
    "\n",
    "def breed_prediction_function(image_prediction_clean):\n",
    "    if image_prediction_clean.p1_dog == True:\n",
    "        breed_prediction.append(image_prediction_clean.p1)\n",
    "        confident_level.append(image_prediction_clean.p1_conf)\n",
    "    elif image_prediction_clean.p2_dog == True:\n",
    "        breed_prediction.append(image_prediction_clean.p2)\n",
    "        confident_level.append(image_prediction_clean.p2_conf)\n",
    "    elif image_prediction_clean.p3_dog == True:\n",
    "        breed_prediction.append(image_prediction_clean.p3)\n",
    "        confident_level.append(image_prediction_clean.p3_conf)\n",
    "    else:\n",
    "        breed_prediction.append('breed_unknown')\n",
    "        confident_level.append(0)\n",
    "             \n",
    "image_prediction_clean.apply(breed_prediction_function, axis=1)\n",
    "\n",
    "\n",
    "image_prediction_clean['breed_prediction'] = breed_prediction\n",
    "image_prediction_clean['confident_level'] = confident_level\n",
    "\n",
    "\n",
    "image_prediction_clean = image_prediction_clean.drop(['img_num',\n",
    "                                                      'p1','p1_conf','p1_dog',\n",
    "                                                      'p2','p2_conf','p2_dog',\n",
    "                                                      'p3','p3_conf','p3_dog'],axis=1)"
   ]
  },
  {
   "cell_type": "markdown",
   "id": "2a202590",
   "metadata": {},
   "source": [
    "#### Test"
   ]
  },
  {
   "cell_type": "code",
   "execution_count": 451,
   "id": "ef272ac9",
   "metadata": {},
   "outputs": [
    {
     "data": {
      "text/html": [
       "<div>\n",
       "<style scoped>\n",
       "    .dataframe tbody tr th:only-of-type {\n",
       "        vertical-align: middle;\n",
       "    }\n",
       "\n",
       "    .dataframe tbody tr th {\n",
       "        vertical-align: top;\n",
       "    }\n",
       "\n",
       "    .dataframe thead th {\n",
       "        text-align: right;\n",
       "    }\n",
       "</style>\n",
       "<table border=\"1\" class=\"dataframe\">\n",
       "  <thead>\n",
       "    <tr style=\"text-align: right;\">\n",
       "      <th></th>\n",
       "      <th>tweet_id</th>\n",
       "      <th>jpg_url</th>\n",
       "      <th>breed_prediction</th>\n",
       "      <th>confident_level</th>\n",
       "    </tr>\n",
       "  </thead>\n",
       "  <tbody>\n",
       "    <tr>\n",
       "      <th>0</th>\n",
       "      <td>666020888022790149</td>\n",
       "      <td>https://pbs.twimg.com/media/CT4udn0WwAA0aMy.jpg</td>\n",
       "      <td>Welsh_springer_spaniel</td>\n",
       "      <td>0.465074</td>\n",
       "    </tr>\n",
       "    <tr>\n",
       "      <th>1</th>\n",
       "      <td>666029285002620928</td>\n",
       "      <td>https://pbs.twimg.com/media/CT42GRgUYAA5iDo.jpg</td>\n",
       "      <td>redbone</td>\n",
       "      <td>0.506826</td>\n",
       "    </tr>\n",
       "    <tr>\n",
       "      <th>2</th>\n",
       "      <td>666033412701032449</td>\n",
       "      <td>https://pbs.twimg.com/media/CT4521TWwAEvMyu.jpg</td>\n",
       "      <td>German_shepherd</td>\n",
       "      <td>0.596461</td>\n",
       "    </tr>\n",
       "    <tr>\n",
       "      <th>3</th>\n",
       "      <td>666044226329800704</td>\n",
       "      <td>https://pbs.twimg.com/media/CT5Dr8HUEAA-lEu.jpg</td>\n",
       "      <td>Rhodesian_ridgeback</td>\n",
       "      <td>0.408143</td>\n",
       "    </tr>\n",
       "    <tr>\n",
       "      <th>4</th>\n",
       "      <td>666049248165822465</td>\n",
       "      <td>https://pbs.twimg.com/media/CT5IQmsXIAAKY4A.jpg</td>\n",
       "      <td>miniature_pinscher</td>\n",
       "      <td>0.560311</td>\n",
       "    </tr>\n",
       "  </tbody>\n",
       "</table>\n",
       "</div>"
      ],
      "text/plain": [
       "             tweet_id                                          jpg_url  \\\n",
       "0  666020888022790149  https://pbs.twimg.com/media/CT4udn0WwAA0aMy.jpg   \n",
       "1  666029285002620928  https://pbs.twimg.com/media/CT42GRgUYAA5iDo.jpg   \n",
       "2  666033412701032449  https://pbs.twimg.com/media/CT4521TWwAEvMyu.jpg   \n",
       "3  666044226329800704  https://pbs.twimg.com/media/CT5Dr8HUEAA-lEu.jpg   \n",
       "4  666049248165822465  https://pbs.twimg.com/media/CT5IQmsXIAAKY4A.jpg   \n",
       "\n",
       "         breed_prediction  confident_level  \n",
       "0  Welsh_springer_spaniel         0.465074  \n",
       "1                 redbone         0.506826  \n",
       "2         German_shepherd         0.596461  \n",
       "3     Rhodesian_ridgeback         0.408143  \n",
       "4      miniature_pinscher         0.560311  "
      ]
     },
     "execution_count": 451,
     "metadata": {},
     "output_type": "execute_result"
    }
   ],
   "source": [
    "image_prediction_clean.head()"
   ]
  },
  {
   "cell_type": "markdown",
   "id": "cac143ae",
   "metadata": {},
   "source": [
    "#### Define \n",
    "Standarize capitalization of new breed column\n",
    "\n",
    "#### Code"
   ]
  },
  {
   "cell_type": "code",
   "execution_count": 452,
   "id": "f8180769",
   "metadata": {},
   "outputs": [],
   "source": [
    "image_prediction_clean.breed_prediction = image_prediction_clean.breed_prediction.str.capitalize()"
   ]
  },
  {
   "cell_type": "markdown",
   "id": "d6a22613",
   "metadata": {},
   "source": [
    "#### Test"
   ]
  },
  {
   "cell_type": "code",
   "execution_count": 453,
   "id": "0a6e2e0a",
   "metadata": {},
   "outputs": [
    {
     "data": {
      "text/html": [
       "<div>\n",
       "<style scoped>\n",
       "    .dataframe tbody tr th:only-of-type {\n",
       "        vertical-align: middle;\n",
       "    }\n",
       "\n",
       "    .dataframe tbody tr th {\n",
       "        vertical-align: top;\n",
       "    }\n",
       "\n",
       "    .dataframe thead th {\n",
       "        text-align: right;\n",
       "    }\n",
       "</style>\n",
       "<table border=\"1\" class=\"dataframe\">\n",
       "  <thead>\n",
       "    <tr style=\"text-align: right;\">\n",
       "      <th></th>\n",
       "      <th>tweet_id</th>\n",
       "      <th>jpg_url</th>\n",
       "      <th>breed_prediction</th>\n",
       "      <th>confident_level</th>\n",
       "    </tr>\n",
       "  </thead>\n",
       "  <tbody>\n",
       "    <tr>\n",
       "      <th>0</th>\n",
       "      <td>666020888022790149</td>\n",
       "      <td>https://pbs.twimg.com/media/CT4udn0WwAA0aMy.jpg</td>\n",
       "      <td>Welsh_springer_spaniel</td>\n",
       "      <td>0.465074</td>\n",
       "    </tr>\n",
       "    <tr>\n",
       "      <th>1</th>\n",
       "      <td>666029285002620928</td>\n",
       "      <td>https://pbs.twimg.com/media/CT42GRgUYAA5iDo.jpg</td>\n",
       "      <td>Redbone</td>\n",
       "      <td>0.506826</td>\n",
       "    </tr>\n",
       "    <tr>\n",
       "      <th>2</th>\n",
       "      <td>666033412701032449</td>\n",
       "      <td>https://pbs.twimg.com/media/CT4521TWwAEvMyu.jpg</td>\n",
       "      <td>German_shepherd</td>\n",
       "      <td>0.596461</td>\n",
       "    </tr>\n",
       "    <tr>\n",
       "      <th>3</th>\n",
       "      <td>666044226329800704</td>\n",
       "      <td>https://pbs.twimg.com/media/CT5Dr8HUEAA-lEu.jpg</td>\n",
       "      <td>Rhodesian_ridgeback</td>\n",
       "      <td>0.408143</td>\n",
       "    </tr>\n",
       "    <tr>\n",
       "      <th>4</th>\n",
       "      <td>666049248165822465</td>\n",
       "      <td>https://pbs.twimg.com/media/CT5IQmsXIAAKY4A.jpg</td>\n",
       "      <td>Miniature_pinscher</td>\n",
       "      <td>0.560311</td>\n",
       "    </tr>\n",
       "  </tbody>\n",
       "</table>\n",
       "</div>"
      ],
      "text/plain": [
       "             tweet_id                                          jpg_url  \\\n",
       "0  666020888022790149  https://pbs.twimg.com/media/CT4udn0WwAA0aMy.jpg   \n",
       "1  666029285002620928  https://pbs.twimg.com/media/CT42GRgUYAA5iDo.jpg   \n",
       "2  666033412701032449  https://pbs.twimg.com/media/CT4521TWwAEvMyu.jpg   \n",
       "3  666044226329800704  https://pbs.twimg.com/media/CT5Dr8HUEAA-lEu.jpg   \n",
       "4  666049248165822465  https://pbs.twimg.com/media/CT5IQmsXIAAKY4A.jpg   \n",
       "\n",
       "         breed_prediction  confident_level  \n",
       "0  Welsh_springer_spaniel         0.465074  \n",
       "1                 Redbone         0.506826  \n",
       "2         German_shepherd         0.596461  \n",
       "3     Rhodesian_ridgeback         0.408143  \n",
       "4      Miniature_pinscher         0.560311  "
      ]
     },
     "execution_count": 453,
     "metadata": {},
     "output_type": "execute_result"
    }
   ],
   "source": [
    "image_prediction_clean.head()"
   ]
  },
  {
   "cell_type": "markdown",
   "id": "797050e8",
   "metadata": {},
   "source": [
    "### Tidiness issues cleaning"
   ]
  },
  {
   "cell_type": "markdown",
   "id": "ceab5ff0",
   "metadata": {},
   "source": [
    "#### Define\n",
    "Combine all dog stages into one column\n",
    "\n",
    "#### Code"
   ]
  },
  {
   "cell_type": "code",
   "execution_count": 454,
   "id": "8459abf1",
   "metadata": {},
   "outputs": [
    {
     "name": "stderr",
     "output_type": "stream",
     "text": [
      "/var/folders/6d/mssv62bs4cxfypz3gm0dkgpc0000gn/T/ipykernel_40846/670077571.py:8: FutureWarning: In a future version of pandas all arguments of DataFrame.drop except for the argument 'labels' will be keyword-only.\n",
      "  twitter_archive_clean.drop('type', 1, inplace = True)\n"
     ]
    }
   ],
   "source": [
    "twitter_archive_clean = pd.melt(twitter_archive_clean, \n",
    "                                id_vars = ['tweet_id', 'timestamp', 'source', 'text', 'expanded_urls', 'rating_numerator', 'rating_denominator', 'name'],\n",
    "                                value_vars = ['doggo', 'floofer', 'pupper', 'puppo'], \n",
    "                                var_name = 'type', \n",
    "                                value_name = 'dog_stage')\n",
    "\n",
    "# Drop type column  \n",
    "twitter_archive_clean.drop('type', 1, inplace = True)\n",
    "\n",
    "# Sort by dog_stage and drop duplicates\n",
    "twitter_archive_clean = twitter_archive_clean.sort_values('dog_stage').drop_duplicates(subset='tweet_id', keep='last')"
   ]
  },
  {
   "cell_type": "markdown",
   "id": "1b524a16",
   "metadata": {},
   "source": [
    "#### Test"
   ]
  },
  {
   "cell_type": "code",
   "execution_count": 455,
   "id": "f3474af9",
   "metadata": {},
   "outputs": [
    {
     "data": {
      "text/plain": [
       "None       1502\n",
       "pupper      194\n",
       "doggo        63\n",
       "puppo        23\n",
       "floofer      10\n",
       "Name: dog_stage, dtype: int64"
      ]
     },
     "execution_count": 455,
     "metadata": {},
     "output_type": "execute_result"
    }
   ],
   "source": [
    "twitter_archive_clean.dog_stage.value_counts()"
   ]
  },
  {
   "cell_type": "markdown",
   "id": "d3ad9411",
   "metadata": {},
   "source": [
    "#### Define \n",
    "Combine Tweet Json table with Twitter Archive table\n",
    "\n",
    "#### Code"
   ]
  },
  {
   "cell_type": "code",
   "execution_count": 456,
   "id": "eb0e0a2c",
   "metadata": {},
   "outputs": [],
   "source": [
    "twitter_archive_clean = pd.merge(twitter_archive_clean, tweet_json_clean,\n",
    "                            on = ['tweet_id'], how = 'left')"
   ]
  },
  {
   "cell_type": "code",
   "execution_count": 457,
   "id": "be992cd9",
   "metadata": {},
   "outputs": [
    {
     "data": {
      "text/html": [
       "<div>\n",
       "<style scoped>\n",
       "    .dataframe tbody tr th:only-of-type {\n",
       "        vertical-align: middle;\n",
       "    }\n",
       "\n",
       "    .dataframe tbody tr th {\n",
       "        vertical-align: top;\n",
       "    }\n",
       "\n",
       "    .dataframe thead th {\n",
       "        text-align: right;\n",
       "    }\n",
       "</style>\n",
       "<table border=\"1\" class=\"dataframe\">\n",
       "  <thead>\n",
       "    <tr style=\"text-align: right;\">\n",
       "      <th></th>\n",
       "      <th>tweet_id</th>\n",
       "      <th>jpg_url</th>\n",
       "      <th>breed_prediction</th>\n",
       "      <th>confident_level</th>\n",
       "    </tr>\n",
       "  </thead>\n",
       "  <tbody>\n",
       "    <tr>\n",
       "      <th>0</th>\n",
       "      <td>666020888022790149</td>\n",
       "      <td>https://pbs.twimg.com/media/CT4udn0WwAA0aMy.jpg</td>\n",
       "      <td>Welsh_springer_spaniel</td>\n",
       "      <td>0.465074</td>\n",
       "    </tr>\n",
       "    <tr>\n",
       "      <th>1</th>\n",
       "      <td>666029285002620928</td>\n",
       "      <td>https://pbs.twimg.com/media/CT42GRgUYAA5iDo.jpg</td>\n",
       "      <td>Redbone</td>\n",
       "      <td>0.506826</td>\n",
       "    </tr>\n",
       "    <tr>\n",
       "      <th>2</th>\n",
       "      <td>666033412701032449</td>\n",
       "      <td>https://pbs.twimg.com/media/CT4521TWwAEvMyu.jpg</td>\n",
       "      <td>German_shepherd</td>\n",
       "      <td>0.596461</td>\n",
       "    </tr>\n",
       "    <tr>\n",
       "      <th>3</th>\n",
       "      <td>666044226329800704</td>\n",
       "      <td>https://pbs.twimg.com/media/CT5Dr8HUEAA-lEu.jpg</td>\n",
       "      <td>Rhodesian_ridgeback</td>\n",
       "      <td>0.408143</td>\n",
       "    </tr>\n",
       "    <tr>\n",
       "      <th>4</th>\n",
       "      <td>666049248165822465</td>\n",
       "      <td>https://pbs.twimg.com/media/CT5IQmsXIAAKY4A.jpg</td>\n",
       "      <td>Miniature_pinscher</td>\n",
       "      <td>0.560311</td>\n",
       "    </tr>\n",
       "  </tbody>\n",
       "</table>\n",
       "</div>"
      ],
      "text/plain": [
       "             tweet_id                                          jpg_url  \\\n",
       "0  666020888022790149  https://pbs.twimg.com/media/CT4udn0WwAA0aMy.jpg   \n",
       "1  666029285002620928  https://pbs.twimg.com/media/CT42GRgUYAA5iDo.jpg   \n",
       "2  666033412701032449  https://pbs.twimg.com/media/CT4521TWwAEvMyu.jpg   \n",
       "3  666044226329800704  https://pbs.twimg.com/media/CT5Dr8HUEAA-lEu.jpg   \n",
       "4  666049248165822465  https://pbs.twimg.com/media/CT5IQmsXIAAKY4A.jpg   \n",
       "\n",
       "         breed_prediction  confident_level  \n",
       "0  Welsh_springer_spaniel         0.465074  \n",
       "1                 Redbone         0.506826  \n",
       "2         German_shepherd         0.596461  \n",
       "3     Rhodesian_ridgeback         0.408143  \n",
       "4      Miniature_pinscher         0.560311  "
      ]
     },
     "execution_count": 457,
     "metadata": {},
     "output_type": "execute_result"
    }
   ],
   "source": [
    "image_prediction_clean.head()"
   ]
  },
  {
   "cell_type": "code",
   "execution_count": 458,
   "id": "7f00e48e",
   "metadata": {},
   "outputs": [
    {
     "name": "stdout",
     "output_type": "stream",
     "text": [
      "<class 'pandas.core.frame.DataFrame'>\n",
      "Int64Index: 2031 entries, 1 to 2353\n",
      "Data columns (total 3 columns):\n",
      " #   Column          Non-Null Count  Dtype\n",
      "---  ------          --------------  -----\n",
      " 0   tweet_id        2031 non-null   int64\n",
      " 1   retweet_count   2031 non-null   int64\n",
      " 2   favorite_count  2031 non-null   int64\n",
      "dtypes: int64(3)\n",
      "memory usage: 63.5 KB\n"
     ]
    }
   ],
   "source": [
    "tweet_json_clean.info()"
   ]
  },
  {
   "cell_type": "markdown",
   "id": "31cd0fa3",
   "metadata": {},
   "source": [
    "#### Define \n",
    "We will combine the image prediction table with the twitter archive table\n",
    "\n",
    "#### Code"
   ]
  },
  {
   "cell_type": "code",
   "execution_count": 459,
   "id": "627e5d5a",
   "metadata": {},
   "outputs": [],
   "source": [
    "twitter_archive_clean = pd.merge(twitter_archive_clean, image_prediction_clean,\n",
    "                            on = ['tweet_id'], how = 'left')"
   ]
  },
  {
   "cell_type": "code",
   "execution_count": 460,
   "id": "1b380fbe",
   "metadata": {},
   "outputs": [],
   "source": [
    "twitter_archive_clean = (twitter_archive_clean[twitter_archive_clean.jpg_url.notnull()])"
   ]
  },
  {
   "cell_type": "code",
   "execution_count": 461,
   "id": "127fa389",
   "metadata": {},
   "outputs": [
    {
     "name": "stdout",
     "output_type": "stream",
     "text": [
      "<class 'pandas.core.frame.DataFrame'>\n",
      "Int64Index: 1666 entries, 0 to 1791\n",
      "Data columns (total 14 columns):\n",
      " #   Column              Non-Null Count  Dtype         \n",
      "---  ------              --------------  -----         \n",
      " 0   tweet_id            1666 non-null   int64         \n",
      " 1   timestamp           1666 non-null   datetime64[ns]\n",
      " 2   source              1666 non-null   object        \n",
      " 3   text                1666 non-null   object        \n",
      " 4   expanded_urls       1666 non-null   object        \n",
      " 5   rating_numerator    1666 non-null   int64         \n",
      " 6   rating_denominator  1666 non-null   int64         \n",
      " 7   name                1666 non-null   object        \n",
      " 8   dog_stage           1666 non-null   object        \n",
      " 9   retweet_count       1666 non-null   int64         \n",
      " 10  favorite_count      1666 non-null   int64         \n",
      " 11  jpg_url             1666 non-null   object        \n",
      " 12  breed_prediction    1666 non-null   object        \n",
      " 13  confident_level     1666 non-null   float64       \n",
      "dtypes: datetime64[ns](1), float64(1), int64(5), object(7)\n",
      "memory usage: 195.2+ KB\n"
     ]
    }
   ],
   "source": [
    "twitter_archive_clean.info()"
   ]
  },
  {
   "cell_type": "markdown",
   "id": "5f1d7a35",
   "metadata": {},
   "source": [
    "#### Test"
   ]
  },
  {
   "cell_type": "code",
   "execution_count": 462,
   "id": "581ee878",
   "metadata": {},
   "outputs": [
    {
     "data": {
      "text/plain": [
       "0"
      ]
     },
     "execution_count": 462,
     "metadata": {},
     "output_type": "execute_result"
    }
   ],
   "source": [
    "# number of null values after cleaning\n",
    "twitter_archive_clean.jpg_url.isnull().sum()"
   ]
  },
  {
   "cell_type": "markdown",
   "id": "8e565cf6",
   "metadata": {},
   "source": [
    "### Viewing and Storing our clenaed data"
   ]
  },
  {
   "cell_type": "markdown",
   "id": "a7c4f194",
   "metadata": {},
   "source": [
    "#### Code"
   ]
  },
  {
   "cell_type": "code",
   "execution_count": 463,
   "id": "8a400878",
   "metadata": {},
   "outputs": [
    {
     "data": {
      "text/html": [
       "<div>\n",
       "<style scoped>\n",
       "    .dataframe tbody tr th:only-of-type {\n",
       "        vertical-align: middle;\n",
       "    }\n",
       "\n",
       "    .dataframe tbody tr th {\n",
       "        vertical-align: top;\n",
       "    }\n",
       "\n",
       "    .dataframe thead th {\n",
       "        text-align: right;\n",
       "    }\n",
       "</style>\n",
       "<table border=\"1\" class=\"dataframe\">\n",
       "  <thead>\n",
       "    <tr style=\"text-align: right;\">\n",
       "      <th></th>\n",
       "      <th>tweet_id</th>\n",
       "      <th>timestamp</th>\n",
       "      <th>source</th>\n",
       "      <th>text</th>\n",
       "      <th>expanded_urls</th>\n",
       "      <th>rating_numerator</th>\n",
       "      <th>rating_denominator</th>\n",
       "      <th>name</th>\n",
       "      <th>dog_stage</th>\n",
       "      <th>retweet_count</th>\n",
       "      <th>favorite_count</th>\n",
       "      <th>jpg_url</th>\n",
       "      <th>breed_prediction</th>\n",
       "      <th>confident_level</th>\n",
       "    </tr>\n",
       "  </thead>\n",
       "  <tbody>\n",
       "    <tr>\n",
       "      <th>0</th>\n",
       "      <td>667455448082227200</td>\n",
       "      <td>2015-11-19 21:32:34</td>\n",
       "      <td>Web</td>\n",
       "      <td>This is Reese and Twips. Reese protects Twips....</td>\n",
       "      <td>https://twitter.com/dog_rates/status/667455448...</td>\n",
       "      <td>7</td>\n",
       "      <td>10</td>\n",
       "      <td>Reese</td>\n",
       "      <td>None</td>\n",
       "      <td>66</td>\n",
       "      <td>203</td>\n",
       "      <td>https://pbs.twimg.com/media/CUNHMXTU8AAS3HH.jpg</td>\n",
       "      <td>Tibetan_terrier</td>\n",
       "      <td>0.676376</td>\n",
       "    </tr>\n",
       "    <tr>\n",
       "      <th>1</th>\n",
       "      <td>667470559035432960</td>\n",
       "      <td>2015-11-19 22:32:36</td>\n",
       "      <td>Web</td>\n",
       "      <td>This is a northern Wahoo named Kohl. He runs t...</td>\n",
       "      <td>https://twitter.com/dog_rates/status/667470559...</td>\n",
       "      <td>11</td>\n",
       "      <td>10</td>\n",
       "      <td>a</td>\n",
       "      <td>None</td>\n",
       "      <td>102</td>\n",
       "      <td>273</td>\n",
       "      <td>https://pbs.twimg.com/media/CUNU78YWEAECmpB.jpg</td>\n",
       "      <td>Toy_poodle</td>\n",
       "      <td>0.304175</td>\n",
       "    </tr>\n",
       "    <tr>\n",
       "      <th>2</th>\n",
       "      <td>667491009379606528</td>\n",
       "      <td>2015-11-19 23:53:52</td>\n",
       "      <td>Web</td>\n",
       "      <td>Two dogs in this one. Both are rare Jujitsu Py...</td>\n",
       "      <td>https://twitter.com/dog_rates/status/667491009...</td>\n",
       "      <td>7</td>\n",
       "      <td>10</td>\n",
       "      <td>None</td>\n",
       "      <td>None</td>\n",
       "      <td>242</td>\n",
       "      <td>559</td>\n",
       "      <td>https://pbs.twimg.com/media/CUNniSlUYAEj1Jl.jpg</td>\n",
       "      <td>Borzoi</td>\n",
       "      <td>0.852088</td>\n",
       "    </tr>\n",
       "    <tr>\n",
       "      <th>3</th>\n",
       "      <td>667495797102141441</td>\n",
       "      <td>2015-11-20 00:12:54</td>\n",
       "      <td>Web</td>\n",
       "      <td>This is Philippe from Soviet Russia. Commandin...</td>\n",
       "      <td>https://twitter.com/dog_rates/status/667495797...</td>\n",
       "      <td>9</td>\n",
       "      <td>10</td>\n",
       "      <td>Philippe</td>\n",
       "      <td>None</td>\n",
       "      <td>294</td>\n",
       "      <td>565</td>\n",
       "      <td>https://pbs.twimg.com/media/CUNr4-7UwAAg2lq.jpg</td>\n",
       "      <td>Chihuahua</td>\n",
       "      <td>0.143957</td>\n",
       "    </tr>\n",
       "    <tr>\n",
       "      <th>4</th>\n",
       "      <td>667502640335572993</td>\n",
       "      <td>2015-11-20 00:40:05</td>\n",
       "      <td>Web</td>\n",
       "      <td>Say hello to Hall and Oates. Oates is winking ...</td>\n",
       "      <td>https://twitter.com/dog_rates/status/667502640...</td>\n",
       "      <td>11</td>\n",
       "      <td>10</td>\n",
       "      <td>Hall</td>\n",
       "      <td>None</td>\n",
       "      <td>231</td>\n",
       "      <td>563</td>\n",
       "      <td>https://pbs.twimg.com/media/CUNyHTMUYAAQVch.jpg</td>\n",
       "      <td>Labrador_retriever</td>\n",
       "      <td>0.996709</td>\n",
       "    </tr>\n",
       "  </tbody>\n",
       "</table>\n",
       "</div>"
      ],
      "text/plain": [
       "             tweet_id           timestamp source  \\\n",
       "0  667455448082227200 2015-11-19 21:32:34    Web   \n",
       "1  667470559035432960 2015-11-19 22:32:36    Web   \n",
       "2  667491009379606528 2015-11-19 23:53:52    Web   \n",
       "3  667495797102141441 2015-11-20 00:12:54    Web   \n",
       "4  667502640335572993 2015-11-20 00:40:05    Web   \n",
       "\n",
       "                                                text  \\\n",
       "0  This is Reese and Twips. Reese protects Twips....   \n",
       "1  This is a northern Wahoo named Kohl. He runs t...   \n",
       "2  Two dogs in this one. Both are rare Jujitsu Py...   \n",
       "3  This is Philippe from Soviet Russia. Commandin...   \n",
       "4  Say hello to Hall and Oates. Oates is winking ...   \n",
       "\n",
       "                                       expanded_urls  rating_numerator  \\\n",
       "0  https://twitter.com/dog_rates/status/667455448...                 7   \n",
       "1  https://twitter.com/dog_rates/status/667470559...                11   \n",
       "2  https://twitter.com/dog_rates/status/667491009...                 7   \n",
       "3  https://twitter.com/dog_rates/status/667495797...                 9   \n",
       "4  https://twitter.com/dog_rates/status/667502640...                11   \n",
       "\n",
       "   rating_denominator      name dog_stage  retweet_count  favorite_count  \\\n",
       "0                  10     Reese      None             66             203   \n",
       "1                  10         a      None            102             273   \n",
       "2                  10      None      None            242             559   \n",
       "3                  10  Philippe      None            294             565   \n",
       "4                  10      Hall      None            231             563   \n",
       "\n",
       "                                           jpg_url    breed_prediction  \\\n",
       "0  https://pbs.twimg.com/media/CUNHMXTU8AAS3HH.jpg     Tibetan_terrier   \n",
       "1  https://pbs.twimg.com/media/CUNU78YWEAECmpB.jpg          Toy_poodle   \n",
       "2  https://pbs.twimg.com/media/CUNniSlUYAEj1Jl.jpg              Borzoi   \n",
       "3  https://pbs.twimg.com/media/CUNr4-7UwAAg2lq.jpg           Chihuahua   \n",
       "4  https://pbs.twimg.com/media/CUNyHTMUYAAQVch.jpg  Labrador_retriever   \n",
       "\n",
       "   confident_level  \n",
       "0         0.676376  \n",
       "1         0.304175  \n",
       "2         0.852088  \n",
       "3         0.143957  \n",
       "4         0.996709  "
      ]
     },
     "execution_count": 463,
     "metadata": {},
     "output_type": "execute_result"
    }
   ],
   "source": [
    "twitter_archive_clean.head()"
   ]
  },
  {
   "cell_type": "code",
   "execution_count": 464,
   "id": "a9d70d79",
   "metadata": {},
   "outputs": [],
   "source": [
    "# Store the clean dataframe in a CSV file named twitter_archive_master.csv\n",
    "twitter_archive_clean.to_csv('twitter_archive_clean.csv')\n",
    "\n",
    "# load data to a dataframe\n",
    "df = pd.read_csv('twitter_archive_clean.csv')"
   ]
  },
  {
   "cell_type": "markdown",
   "id": "faf5de80",
   "metadata": {},
   "source": [
    "#### Test"
   ]
  },
  {
   "cell_type": "code",
   "execution_count": 468,
   "id": "246628d6",
   "metadata": {},
   "outputs": [
    {
     "data": {
      "text/plain": [
       "Index(['Unnamed: 0', 'tweet_id', 'timestamp', 'source', 'text',\n",
       "       'expanded_urls', 'rating_numerator', 'rating_denominator', 'name',\n",
       "       'dog_stage', 'retweet_count', 'favorite_count', 'jpg_url',\n",
       "       'breed_prediction', 'confident_level'],\n",
       "      dtype='object')"
      ]
     },
     "execution_count": 468,
     "metadata": {},
     "output_type": "execute_result"
    }
   ],
   "source": [
    "df.columns"
   ]
  },
  {
   "cell_type": "code",
   "execution_count": 466,
   "id": "190796cc",
   "metadata": {},
   "outputs": [
    {
     "data": {
      "text/html": [
       "<div>\n",
       "<style scoped>\n",
       "    .dataframe tbody tr th:only-of-type {\n",
       "        vertical-align: middle;\n",
       "    }\n",
       "\n",
       "    .dataframe tbody tr th {\n",
       "        vertical-align: top;\n",
       "    }\n",
       "\n",
       "    .dataframe thead th {\n",
       "        text-align: right;\n",
       "    }\n",
       "</style>\n",
       "<table border=\"1\" class=\"dataframe\">\n",
       "  <thead>\n",
       "    <tr style=\"text-align: right;\">\n",
       "      <th></th>\n",
       "      <th>Unnamed: 0</th>\n",
       "      <th>tweet_id</th>\n",
       "      <th>timestamp</th>\n",
       "      <th>source</th>\n",
       "      <th>text</th>\n",
       "      <th>expanded_urls</th>\n",
       "      <th>rating_numerator</th>\n",
       "      <th>rating_denominator</th>\n",
       "      <th>name</th>\n",
       "      <th>dog_stage</th>\n",
       "      <th>retweet_count</th>\n",
       "      <th>favorite_count</th>\n",
       "      <th>jpg_url</th>\n",
       "      <th>breed_prediction</th>\n",
       "      <th>confident_level</th>\n",
       "    </tr>\n",
       "  </thead>\n",
       "  <tbody>\n",
       "    <tr>\n",
       "      <th>0</th>\n",
       "      <td>0</td>\n",
       "      <td>667455448082227200</td>\n",
       "      <td>2015-11-19 21:32:34</td>\n",
       "      <td>Web</td>\n",
       "      <td>This is Reese and Twips. Reese protects Twips....</td>\n",
       "      <td>https://twitter.com/dog_rates/status/667455448...</td>\n",
       "      <td>7</td>\n",
       "      <td>10</td>\n",
       "      <td>Reese</td>\n",
       "      <td>None</td>\n",
       "      <td>66</td>\n",
       "      <td>203</td>\n",
       "      <td>https://pbs.twimg.com/media/CUNHMXTU8AAS3HH.jpg</td>\n",
       "      <td>Tibetan_terrier</td>\n",
       "      <td>0.676376</td>\n",
       "    </tr>\n",
       "    <tr>\n",
       "      <th>1</th>\n",
       "      <td>1</td>\n",
       "      <td>667470559035432960</td>\n",
       "      <td>2015-11-19 22:32:36</td>\n",
       "      <td>Web</td>\n",
       "      <td>This is a northern Wahoo named Kohl. He runs t...</td>\n",
       "      <td>https://twitter.com/dog_rates/status/667470559...</td>\n",
       "      <td>11</td>\n",
       "      <td>10</td>\n",
       "      <td>a</td>\n",
       "      <td>None</td>\n",
       "      <td>102</td>\n",
       "      <td>273</td>\n",
       "      <td>https://pbs.twimg.com/media/CUNU78YWEAECmpB.jpg</td>\n",
       "      <td>Toy_poodle</td>\n",
       "      <td>0.304175</td>\n",
       "    </tr>\n",
       "    <tr>\n",
       "      <th>2</th>\n",
       "      <td>2</td>\n",
       "      <td>667491009379606528</td>\n",
       "      <td>2015-11-19 23:53:52</td>\n",
       "      <td>Web</td>\n",
       "      <td>Two dogs in this one. Both are rare Jujitsu Py...</td>\n",
       "      <td>https://twitter.com/dog_rates/status/667491009...</td>\n",
       "      <td>7</td>\n",
       "      <td>10</td>\n",
       "      <td>None</td>\n",
       "      <td>None</td>\n",
       "      <td>242</td>\n",
       "      <td>559</td>\n",
       "      <td>https://pbs.twimg.com/media/CUNniSlUYAEj1Jl.jpg</td>\n",
       "      <td>Borzoi</td>\n",
       "      <td>0.852088</td>\n",
       "    </tr>\n",
       "    <tr>\n",
       "      <th>3</th>\n",
       "      <td>3</td>\n",
       "      <td>667495797102141441</td>\n",
       "      <td>2015-11-20 00:12:54</td>\n",
       "      <td>Web</td>\n",
       "      <td>This is Philippe from Soviet Russia. Commandin...</td>\n",
       "      <td>https://twitter.com/dog_rates/status/667495797...</td>\n",
       "      <td>9</td>\n",
       "      <td>10</td>\n",
       "      <td>Philippe</td>\n",
       "      <td>None</td>\n",
       "      <td>294</td>\n",
       "      <td>565</td>\n",
       "      <td>https://pbs.twimg.com/media/CUNr4-7UwAAg2lq.jpg</td>\n",
       "      <td>Chihuahua</td>\n",
       "      <td>0.143957</td>\n",
       "    </tr>\n",
       "    <tr>\n",
       "      <th>4</th>\n",
       "      <td>4</td>\n",
       "      <td>667502640335572993</td>\n",
       "      <td>2015-11-20 00:40:05</td>\n",
       "      <td>Web</td>\n",
       "      <td>Say hello to Hall and Oates. Oates is winking ...</td>\n",
       "      <td>https://twitter.com/dog_rates/status/667502640...</td>\n",
       "      <td>11</td>\n",
       "      <td>10</td>\n",
       "      <td>Hall</td>\n",
       "      <td>None</td>\n",
       "      <td>231</td>\n",
       "      <td>563</td>\n",
       "      <td>https://pbs.twimg.com/media/CUNyHTMUYAAQVch.jpg</td>\n",
       "      <td>Labrador_retriever</td>\n",
       "      <td>0.996709</td>\n",
       "    </tr>\n",
       "  </tbody>\n",
       "</table>\n",
       "</div>"
      ],
      "text/plain": [
       "   Unnamed: 0            tweet_id            timestamp source  \\\n",
       "0           0  667455448082227200  2015-11-19 21:32:34    Web   \n",
       "1           1  667470559035432960  2015-11-19 22:32:36    Web   \n",
       "2           2  667491009379606528  2015-11-19 23:53:52    Web   \n",
       "3           3  667495797102141441  2015-11-20 00:12:54    Web   \n",
       "4           4  667502640335572993  2015-11-20 00:40:05    Web   \n",
       "\n",
       "                                                text  \\\n",
       "0  This is Reese and Twips. Reese protects Twips....   \n",
       "1  This is a northern Wahoo named Kohl. He runs t...   \n",
       "2  Two dogs in this one. Both are rare Jujitsu Py...   \n",
       "3  This is Philippe from Soviet Russia. Commandin...   \n",
       "4  Say hello to Hall and Oates. Oates is winking ...   \n",
       "\n",
       "                                       expanded_urls  rating_numerator  \\\n",
       "0  https://twitter.com/dog_rates/status/667455448...                 7   \n",
       "1  https://twitter.com/dog_rates/status/667470559...                11   \n",
       "2  https://twitter.com/dog_rates/status/667491009...                 7   \n",
       "3  https://twitter.com/dog_rates/status/667495797...                 9   \n",
       "4  https://twitter.com/dog_rates/status/667502640...                11   \n",
       "\n",
       "   rating_denominator      name dog_stage  retweet_count  favorite_count  \\\n",
       "0                  10     Reese      None             66             203   \n",
       "1                  10         a      None            102             273   \n",
       "2                  10      None      None            242             559   \n",
       "3                  10  Philippe      None            294             565   \n",
       "4                  10      Hall      None            231             563   \n",
       "\n",
       "                                           jpg_url    breed_prediction  \\\n",
       "0  https://pbs.twimg.com/media/CUNHMXTU8AAS3HH.jpg     Tibetan_terrier   \n",
       "1  https://pbs.twimg.com/media/CUNU78YWEAECmpB.jpg          Toy_poodle   \n",
       "2  https://pbs.twimg.com/media/CUNniSlUYAEj1Jl.jpg              Borzoi   \n",
       "3  https://pbs.twimg.com/media/CUNr4-7UwAAg2lq.jpg           Chihuahua   \n",
       "4  https://pbs.twimg.com/media/CUNyHTMUYAAQVch.jpg  Labrador_retriever   \n",
       "\n",
       "   confident_level  \n",
       "0         0.676376  \n",
       "1         0.304175  \n",
       "2         0.852088  \n",
       "3         0.143957  \n",
       "4         0.996709  "
      ]
     },
     "execution_count": 466,
     "metadata": {},
     "output_type": "execute_result"
    }
   ],
   "source": [
    "df.head()"
   ]
  },
  {
   "cell_type": "markdown",
   "id": "3b2c436c",
   "metadata": {},
   "source": [
    "## V. Analyzing Data & Visualization"
   ]
  },
  {
   "cell_type": "markdown",
   "id": "4ad92111",
   "metadata": {},
   "source": [
    "### 1. Most Popular Breed of Dogs"
   ]
  },
  {
   "cell_type": "code",
   "execution_count": 478,
   "id": "e5d028ee",
   "metadata": {},
   "outputs": [
    {
     "data": {
      "image/png": "[encoded data removed]",
      "text/plain": [
       "<Figure size 1000x600 with 1 Axes>"
      ]
     },
     "metadata": {},
     "output_type": "display_data"
    }
   ],
   "source": [
    "relevant_columns = ['breed_prediction', 'retweet_count', 'favorite_count']\n",
    "\n",
    "# Create a copy of the filtered data\n",
    "filtered_data = df[relevant_columns].copy()\n",
    "\n",
    "# Calculate popularity score as the sum of retweet_count and favorite_count\n",
    "filtered_data['popularity_score'] = (0.6 * filtered_data['retweet_count']) + (0.4 * filtered_data['favorite_count'])\n",
    "\n",
    "# Group the data by breed_prediction and calculate the total popularity score\n",
    "grouped_data = filtered_data.groupby('breed_prediction')['popularity_score'].sum()\n",
    "\n",
    "# Sort the data in descending order and select the top 10 breeds\n",
    "sorted_data = grouped_data.sort_values(ascending=False).head(10)\n",
    "\n",
    "# Create a bar graph to visualize the popularity of breed_prediction\n",
    "plt.figure(figsize=(10, 6))\n",
    "sorted_data.plot(kind='bar')\n",
    "plt.xlabel('Breed Prediction')\n",
    "plt.ylabel('Popularity Score')\n",
    "plt.title('Top 10 Most Popular Breed Predictions')\n",
    "plt.xticks(rotation=45)\n",
    "plt.show()"
   ]
  },
  {
   "cell_type": "markdown",
   "id": "bbc3236e",
   "metadata": {},
   "source": [
    "### 2. Ratio of Dog Stages (Excluding \"none\" Field)"
   ]
  },
  {
   "cell_type": "code",
   "execution_count": 483,
   "id": "8ea6eade",
   "metadata": {},
   "outputs": [
    {
     "data": {
      "image/png": "[encoded data removed]",
      "text/plain": [
       "<Figure size 800x800 with 1 Axes>"
      ]
     },
     "metadata": {},
     "output_type": "display_data"
    }
   ],
   "source": [
    "# Filter out rows with 'None' in the dog_stage column\n",
    "filtered_data = df[df['dog_stage'] != 'None']\n",
    "\n",
    "# Count the occurrences of each dog stage\n",
    "dog_stage_counts = filtered_data['dog_stage'].value_counts()\n",
    "\n",
    "# Calculate the percentages of each dog stage\n",
    "dog_stage_percentages = (dog_stage_counts / dog_stage_counts.sum()) * 100\n",
    "\n",
    "# Create a pie chart\n",
    "plt.figure(figsize=(8, 8))\n",
    "plt.pie(dog_stage_percentages, labels=dog_stage_percentages.index, autopct='%1.1f%%', startangle=90)\n",
    "plt.title('Dog Stages (excluding \"None\")')\n",
    "plt.axis('equal')\n",
    "\n",
    "# Add a legend\n",
    "plt.legend(title='Dog Stages', loc='best')\n",
    "\n",
    "# Show the pie chart\n",
    "plt.show()"
   ]
  },
  {
   "cell_type": "markdown",
   "id": "ffd179f6",
   "metadata": {},
   "source": [
    "### 3. Popularity of Dog Stages based on Retweet Count"
   ]
  },
  {
   "cell_type": "code",
   "execution_count": 500,
   "id": "adca110e",
   "metadata": {},
   "outputs": [
    {
     "data": {
      "image/png": "[encoded data removed]",
      "text/plain": [
       "<Figure size 1000x600 with 1 Axes>"
      ]
     },
     "metadata": {},
     "output_type": "display_data"
    }
   ],
   "source": [
    "# Filter out rows with 'None' in the dog_stage column\n",
    "filtered_data = df[df['dog_stage'] != 'None']\n",
    "\n",
    "# Group the data by dog_stage and calculate the total retweet count for each stage\n",
    "grouped_data = filtered_data.groupby('dog_stage')['retweet_count'].sum()\n",
    "\n",
    "# Sort the data in descending order\n",
    "sorted_data = grouped_data.sort_values(ascending=False)\n",
    "\n",
    "# Create a bar graph to visualize the popularity of different dog stages based on retweet count\n",
    "plt.figure(figsize=(10, 6))\n",
    "sorted_data.plot(kind='bar')\n",
    "plt.xlabel('Dog Stage')\n",
    "plt.ylabel('Retweet Count')\n",
    "plt.title('Popularity of Dog Stages based on Retweet Count')\n",
    "plt.xticks(rotation=45)\n",
    "plt.show()"
   ]
  },
  {
   "cell_type": "code",
   "execution_count": 501,
   "id": "81085cd8",
   "metadata": {},
   "outputs": [
    {
     "data": {
      "text/plain": [
       "dog_stage\n",
       "pupper     437735\n",
       "doggo      381233\n",
       "puppo      153087\n",
       "floofer     38214\n",
       "Name: retweet_count, dtype: int64"
      ]
     },
     "execution_count": 501,
     "metadata": {},
     "output_type": "execute_result"
    }
   ],
   "source": [
    "sorted_data"
   ]
  },
  {
   "cell_type": "markdown",
   "id": "23a18120",
   "metadata": {},
   "source": [
    "### 4. Frequency of Different Sources Used"
   ]
  },
  {
   "cell_type": "code",
   "execution_count": 485,
   "id": "744d716d",
   "metadata": {},
   "outputs": [
    {
     "data": {
      "image/png": "[encoded data removed]",
      "text/plain": [
       "<Figure size 1000x600 with 1 Axes>"
      ]
     },
     "metadata": {},
     "output_type": "display_data"
    }
   ],
   "source": [
    "# Count the occurrences of each source\n",
    "source_counts = df['source'].value_counts()\n",
    "\n",
    "# Create a bar graph to visualize the frequency of different sources used\n",
    "plt.figure(figsize=(10, 6))\n",
    "source_counts.plot(kind='bar')\n",
    "plt.xlabel('Source')\n",
    "plt.ylabel('Frequency')\n",
    "plt.title('Frequency of Different Sources Used')\n",
    "plt.xticks(rotation=45)\n",
    "plt.show()"
   ]
  },
  {
   "cell_type": "code",
   "execution_count": 486,
   "id": "2c1ea949",
   "metadata": {},
   "outputs": [
    {
     "data": {
      "text/plain": [
       "iPhone       1635\n",
       "Web            22\n",
       "TweetDeck       9\n",
       "Name: source, dtype: int64"
      ]
     },
     "execution_count": 486,
     "metadata": {},
     "output_type": "execute_result"
    }
   ],
   "source": [
    "df['source'].value_counts()"
   ]
  }
 ],
 "metadata": {
  "kernelspec": {
   "display_name": "Python 3 (ipykernel)",
   "language": "python",
   "name": "python3"
  },
  "language_info": {
   "codemirror_mode": {
    "name": "ipython",
    "version": 3
   },
   "file_extension": ".py",
   "mimetype": "text/x-python",
   "name": "python",
   "nbconvert_exporter": "python",
   "pygments_lexer": "ipython3",
   "version": "3.10.11"
  }
 },
 "nbformat": 4,
 "nbformat_minor": 5
}
